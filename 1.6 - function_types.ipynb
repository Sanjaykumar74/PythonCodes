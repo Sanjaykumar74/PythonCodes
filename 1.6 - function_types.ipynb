{
 "cells": [
  {
   "cell_type": "markdown",
   "metadata": {
    "colab_type": "text",
    "id": "RqxIugMnDy18"
   },
   "source": [
    "# Types Of Functions"
   ]
  },
  {
   "cell_type": "markdown",
   "metadata": {
    "colab_type": "text",
    "id": "MeGY4QcFDy2B"
   },
   "source": [
    "1. Built-in Functions\n",
    "\n",
    "2. User-defined Functions"
   ]
  },
  {
   "cell_type": "markdown",
   "metadata": {
    "colab_type": "text",
    "id": "ilt0Wb4sDy2E"
   },
   "source": [
    "# Built-in Functions"
   ]
  },
  {
   "cell_type": "markdown",
   "metadata": {
    "colab_type": "text",
    "id": "ubtJWhwrDy2F"
   },
   "source": [
    "# 1. abs()"
   ]
  },
  {
   "cell_type": "code",
   "execution_count": 1,
   "metadata": {
    "colab": {},
    "colab_type": "code",
    "id": "cs7rqfNGDy2H",
    "outputId": "9b7c7119-c7ac-4687-c6d2-2c1f4beedb6b"
   },
   "outputs": [
    {
     "name": "stdout",
     "output_type": "stream",
     "text": [
      "100\n"
     ]
    }
   ],
   "source": [
    "# find the absolute value\n",
    "\n",
    "num = -100\n",
    "\n",
    "print(abs(num))"
   ]
  },
  {
   "cell_type": "markdown",
   "metadata": {
    "colab_type": "text",
    "id": "Ao4an2SJDy2V"
   },
   "source": [
    "# 2. all()"
   ]
  },
  {
   "cell_type": "markdown",
   "metadata": {
    "colab_type": "text",
    "id": "s7KNa-qjDy2X"
   },
   "source": [
    "#return value of all() function\n",
    "\n",
    "True: if all elements in an iterable are true\n",
    "\n",
    "False: if any element in an iterable is false"
   ]
  },
  {
   "cell_type": "code",
   "execution_count": 2,
   "metadata": {
    "colab": {},
    "colab_type": "code",
    "id": "BUYpaNxDDy2Z",
    "outputId": "4155af24-b996-48bc-f94f-96455fc6c295"
   },
   "outputs": [
    {
     "name": "stdout",
     "output_type": "stream",
     "text": [
      "True\n"
     ]
    }
   ],
   "source": [
    "lst = [1, 2, 3, 4,78]\n",
    "print(all(lst)) "
   ]
  },
  {
   "cell_type": "code",
   "execution_count": 2,
   "metadata": {
    "colab": {},
    "colab_type": "code",
    "id": "PMh2XjhmDy2g",
    "outputId": "3fcc42c4-b996-4002-c2bc-4379c765ae57"
   },
   "outputs": [
    {
     "name": "stdout",
     "output_type": "stream",
     "text": [
      "False\n"
     ]
    }
   ],
   "source": [
    "lst = (10, 1, 2, 3, 0)    # 0 present in list \n",
    "print(all(lst))"
   ]
  },
  {
   "cell_type": "code",
   "execution_count": 3,
   "metadata": {
    "colab": {},
    "colab_type": "code",
    "id": "A1612gmHDy2n",
    "outputId": "5ab9f21d-d79d-43c0-e021-018ba8228f32"
   },
   "outputs": [
    {
     "name": "stdout",
     "output_type": "stream",
     "text": [
      "True\n"
     ]
    }
   ],
   "source": [
    "lst = []              #empty list always true\n",
    "print(all(lst))"
   ]
  },
  {
   "cell_type": "code",
   "execution_count": 2,
   "metadata": {
    "colab": {},
    "colab_type": "code",
    "id": "EFwmHv_kDy2v",
    "outputId": "d466ad84-2d91-4ceb-bf13-c808f8dfcd2d"
   },
   "outputs": [
    {
     "name": "stdout",
     "output_type": "stream",
     "text": [
      "False\n",
      "['__add__', '__class__', '__contains__', '__delattr__', '__dir__', '__doc__', '__eq__', '__format__', '__ge__', '__getattribute__', '__getitem__', '__getnewargs__', '__gt__', '__hash__', '__init__', '__init_subclass__', '__iter__', '__le__', '__len__', '__lt__', '__mul__', '__ne__', '__new__', '__reduce__', '__reduce_ex__', '__repr__', '__rmul__', '__setattr__', '__sizeof__', '__str__', '__subclasshook__', 'count', 'index']\n"
     ]
    }
   ],
   "source": [
    "lst = (1,0, 2)   #False present in a list so all(lst) is False\n",
    "print(all(lst))\n",
    "print(dir(lst))"
   ]
  },
  {
   "cell_type": "markdown",
   "metadata": {
    "colab_type": "text",
    "id": "Vpyu5OLGDy2z"
   },
   "source": [
    "# dir()"
   ]
  },
  {
   "cell_type": "markdown",
   "metadata": {
    "colab_type": "text",
    "id": "hKSi83LiDy20"
   },
   "source": [
    "The dir() tries to return a list of valid attributes of the object.\n",
    "\n",
    "If the object has __dir__() method, the method will be called and must return the list of attributes.\n",
    "\n",
    "If the object doesn't have __dir()__ method, this method tries to find information from the __dict__ attribute (if defined), and from type object. In this case, the list returned from dir() may not be complete.\n"
   ]
  },
  {
   "cell_type": "code",
   "execution_count": 7,
   "metadata": {
    "colab": {},
    "colab_type": "code",
    "id": "x3-LaQj8Dy22",
    "outputId": "fadf0dbd-4c71-41bd-b759-968236a0a696"
   },
   "outputs": [
    {
     "name": "stdout",
     "output_type": "stream",
     "text": [
      "<class 'list'>\n",
      "['__add__', '__class__', '__contains__', '__delattr__', '__delitem__', '__dir__', '__doc__', '__eq__', '__format__', '__ge__', '__getattribute__', '__getitem__', '__gt__', '__hash__', '__iadd__', '__imul__', '__init__', '__init_subclass__', '__iter__', '__le__', '__len__', '__lt__', '__mul__', '__ne__', '__new__', '__reduce__', '__reduce_ex__', '__repr__', '__reversed__', '__rmul__', '__setattr__', '__setitem__', '__sizeof__', '__str__', '__subclasshook__', 'append', 'clear', 'copy', 'count', 'extend', 'index', 'insert', 'pop', 'remove', 'reverse', 'sort']\n",
      "<class 'tuple'>\n",
      "['__add__', '__class__', '__contains__', '__delattr__', '__dir__', '__doc__', '__eq__', '__format__', '__ge__', '__getattribute__', '__getitem__', '__getnewargs__', '__gt__', '__hash__', '__init__', '__init_subclass__', '__iter__', '__le__', '__len__', '__lt__', '__mul__', '__ne__', '__new__', '__reduce__', '__reduce_ex__', '__repr__', '__rmul__', '__setattr__', '__sizeof__', '__str__', '__subclasshook__', 'count', 'index']\n"
     ]
    }
   ],
   "source": [
    "numbers = []\n",
    "print(type(numbers))\n",
    "print(dir(numbers))\n",
    "\n",
    "tup_n = tuple(numbers)\n",
    "print(type(tup_n))\n",
    "\n",
    "print(dir(tup_n))\n"
   ]
  },
  {
   "cell_type": "markdown",
   "metadata": {
    "colab_type": "text",
    "id": "qAkLDrzDDy27"
   },
   "source": [
    "# divmod()"
   ]
  },
  {
   "cell_type": "markdown",
   "metadata": {
    "colab_type": "text",
    "id": "Z7PAJz9RDy28"
   },
   "source": [
    "The divmod() method takes two numbers and returns a pair of numbers (a tuple) consisting of their quotient and remainder."
   ]
  },
  {
   "cell_type": "code",
   "execution_count": 3,
   "metadata": {
    "colab": {},
    "colab_type": "code",
    "id": "6V3UUIj-Dy29",
    "outputId": "51645660-aa7a-4d6d-b162-effe6e5db99b"
   },
   "outputs": [
    {
     "name": "stdout",
     "output_type": "stream",
     "text": [
      "(3, 1)\n"
     ]
    }
   ],
   "source": [
    "print(divmod(19, 6)) #print quotient and remainder as a tuple\n",
    "\n",
    "#try with other number\n"
   ]
  },
  {
   "cell_type": "markdown",
   "metadata": {
    "colab_type": "text",
    "id": "3XcOj4ahDy3A"
   },
   "source": [
    "# enumerate()"
   ]
  },
  {
   "cell_type": "markdown",
   "metadata": {
    "colab_type": "text",
    "id": "sPGIxThfDy3C"
   },
   "source": [
    "The enumerate() method adds counter to an iterable and returns it "
   ]
  },
  {
   "cell_type": "markdown",
   "metadata": {
    "colab_type": "text",
    "id": "PsPTJ9w3Dy3C"
   },
   "source": [
    "syntax: enumerate(iterable, start=0)"
   ]
  },
  {
   "cell_type": "code",
   "execution_count": 10,
   "metadata": {
    "colab": {},
    "colab_type": "code",
    "id": "LzYe1WyTDy3E",
    "outputId": "d97df55a-531b-4f3f-c4b9-09053c31f337"
   },
   "outputs": [
    {
     "name": "stdout",
     "output_type": "stream",
     "text": [
      "index 0 has value 10\n",
      "index 1 has value 20\n",
      "index 2 has value 30\n",
      "index 3 has value 40\n",
      "<class 'list'>\n"
     ]
    }
   ],
   "source": [
    "numbers = [\"10\", \"20\", \"30\", \"40\"]\n",
    "\n",
    "for index, num in enumerate(numbers):\n",
    "    print(\"index {0} has value {1}\".format(index, num))\n",
    "    \n",
    "print(type(numbers))"
   ]
  },
  {
   "cell_type": "markdown",
   "metadata": {
    "colab_type": "text",
    "id": "Qv7BOrOjDy3I"
   },
   "source": [
    "# filter()"
   ]
  },
  {
   "cell_type": "markdown",
   "metadata": {
    "colab_type": "text",
    "id": "K8_DVZ2uDy3J"
   },
   "source": [
    "The filter() method constructs an iterator from elements of an iterable for which a function returns true."
   ]
  },
  {
   "cell_type": "markdown",
   "metadata": {
    "colab_type": "text",
    "id": "Xsq_-ITBDy3K"
   },
   "source": [
    "syntax: filter(function, iterable)"
   ]
  },
  {
   "cell_type": "code",
   "execution_count": 9,
   "metadata": {
    "colab": {},
    "colab_type": "code",
    "id": "-Nclc6WjDy3L"
   },
   "outputs": [],
   "source": [
    "def find_pos_num(num):\n",
    "    \"\"\"\n",
    "    This function returns the positive number if num is positive\n",
    "    \"\"\"\n",
    "    if (num>0):\n",
    "        return num"
   ]
  },
  {
   "cell_type": "code",
   "execution_count": 1,
   "metadata": {
    "colab": {},
    "colab_type": "code",
    "id": "ef_Se6snDy3Q",
    "outputId": "8fb2019e-3862-47e5-ff75-8be51c7ca567"
   },
   "outputs": [
    {
     "name": "stdout",
     "output_type": "stream",
     "text": [
      "20\n",
      "[-10, -9, -8, -7, -6, -5, -4, -3, -2, -1, 0, 1, 2, 3, 4, 5, 6, 7, 8, 9]\n",
      "[1, 2, 3, 4, 5, 6, 7, 8, 9]\n"
     ]
    }
   ],
   "source": [
    "number_list = range(-10, 10) #create a list with numbers from -10 to 10\n",
    "print(len(number_list))\n",
    "print(list(number_list))\n",
    "\n",
    "#-10,-9,-8 ...... 9\n",
    "\n",
    "#positive_num_lst = list(filter(find_pos_num, number_list))\n",
    "positive_num_lst = list(filter(lambda n : n>0, number_list))\n",
    "print(positive_num_lst)\n",
    "\n",
    "\n"
   ]
  },
  {
   "cell_type": "code",
   "execution_count": 1,
   "metadata": {},
   "outputs": [
    {
     "name": "stdout",
     "output_type": "stream",
     "text": [
      "range(-15, 10)\n",
      "25\n",
      "1\n",
      "4\n",
      "9\n",
      "16\n",
      "25\n",
      "36\n",
      "49\n",
      "64\n",
      "81\n"
     ]
    }
   ],
   "source": [
    "num_25 = range(-15,10)\n",
    "\n",
    "find_pos_num = tuple(filter(lambda a : (a > 0), num_25))\n",
    "\n",
    "for pos in find_pos_num:\n",
    "    res = (pos * pos)\n",
    "\n",
    "    print(res)"
   ]
  },
  {
   "cell_type": "code",
   "execution_count": 11,
   "metadata": {},
   "outputs": [
    {
     "name": "stdout",
     "output_type": "stream",
     "text": [
      "1\n",
      "4\n",
      "9\n",
      "16\n",
      "25\n",
      "36\n",
      "49\n",
      "64\n",
      "81\n"
     ]
    }
   ],
   "source": [
    "num_25 = range(-15,10)\n",
    "\n",
    "\n",
    "find_pos_num = tuple(filter(lambda a : (a > 0), num_25))\n",
    "\n",
    "index = 1\n",
    "\n",
    "while(index <= len(find_pos_num)):\n",
    "    if(index > 0):\n",
    "        prod = (index * index)\n",
    "        index += 1\n",
    "\n",
    "        print(prod)\n",
    "        "
   ]
  },
  {
   "cell_type": "code",
   "execution_count": 11,
   "metadata": {},
   "outputs": [
    {
     "name": "stdout",
     "output_type": "stream",
     "text": [
      "[-10, -9, -8, -7, -6, -5, -4, -3, -2, -1, 0, 1, 2, 3, 4, 5, 6, 7, 8, 9]\n",
      "[1, 2, 3, 4, 5, 6, 7, 8, 9]\n"
     ]
    }
   ],
   "source": [
    "number_list = range(-10, 10)\n",
    "print(list(number_list))\n",
    "\n",
    "pos_num_list = list(filter(lambda pos: (pos>0), number_list))\n",
    "print(pos_num_list)"
   ]
  },
  {
   "cell_type": "markdown",
   "metadata": {
    "colab_type": "text",
    "id": "i1jHDq_5Dy3Z"
   },
   "source": [
    "# isinstance()"
   ]
  },
  {
   "cell_type": "markdown",
   "metadata": {
    "colab_type": "text",
    "id": "eSZpUEYnDy3b"
   },
   "source": [
    "The isinstance() function checks if the object (first argument) is an instance or subclass of classinfo class (second argument)."
   ]
  },
  {
   "cell_type": "markdown",
   "metadata": {
    "colab_type": "text",
    "id": "JYB_W3vfDy3e"
   },
   "source": [
    "syntax: isinstance(object, classinfo)"
   ]
  },
  {
   "cell_type": "code",
   "execution_count": 7,
   "metadata": {
    "colab": {},
    "colab_type": "code",
    "id": "JMAYKKXZDy3f",
    "outputId": "42dc66ee-8ee9-434e-c523-c35ed9653b09"
   },
   "outputs": [
    {
     "name": "stdout",
     "output_type": "stream",
     "text": [
      "True\n",
      "False\n"
     ]
    }
   ],
   "source": [
    "lst = [1, 2, 3, 4]\n",
    "print(isinstance(lst, list))\n",
    "\n",
    "#try with other datatypes tuple, set\n",
    "t = (1,2,3,4)\n",
    "print(isinstance(t, list))"
   ]
  },
  {
   "cell_type": "markdown",
   "metadata": {
    "colab_type": "text",
    "id": "0SzHgv87Dy3k"
   },
   "source": [
    "# map()"
   ]
  },
  {
   "cell_type": "markdown",
   "metadata": {
    "colab_type": "text",
    "id": "eAqVlxbtDy3m"
   },
   "source": [
    "Map applies a function to all the items in an input_list."
   ]
  },
  {
   "cell_type": "markdown",
   "metadata": {
    "colab_type": "text",
    "id": "oHivUTbRDy3m"
   },
   "source": [
    "syntax: map(function_to_apply, list_of_inputs)"
   ]
  },
  {
   "cell_type": "code",
   "execution_count": 3,
   "metadata": {
    "colab": {},
    "colab_type": "code",
    "id": "YrzZKvFMDy3n",
    "outputId": "bdcc45b2-5a0e-43e7-be55-cc3749c03498"
   },
   "outputs": [
    {
     "name": "stdout",
     "output_type": "stream",
     "text": [
      "[1, 4, 9, 16]\n"
     ]
    }
   ],
   "source": [
    "#Without lambda\n",
    "\n",
    "numbers = [1, 2, 3, 4]\n",
    "\n",
    "#normal method of computing num^2 for each element in the list.\n",
    "squared = []   #empty list\n",
    "for num in numbers:\n",
    "    squared.append(num ** 2)\n",
    "\n",
    "print(squared)\n"
   ]
  },
  {
   "cell_type": "code",
   "execution_count": 4,
   "metadata": {
    "colab": {},
    "colab_type": "code",
    "id": "SWKg9_nYDy3r",
    "outputId": "50395f75-d023-4dca-ca24-431a527e1e97"
   },
   "outputs": [
    {
     "name": "stdout",
     "output_type": "stream",
     "text": [
      "[1, 4, 9, 16]\n"
     ]
    }
   ],
   "source": [
    "'''\n",
    "def powerOfTwo(num):\n",
    "    return (num**2)\n",
    "'''\n",
    "\n",
    "#using map() function\n",
    "#squared = list(map(powerOfTwo, numbers))\n",
    "squared = list(map(lambda x: x**2, numbers))\n",
    "print(squared)\n"
   ]
  },
  {
   "cell_type": "code",
   "execution_count": 6,
   "metadata": {},
   "outputs": [],
   "source": [
    "num_val = [2,3,4,5]"
   ]
  },
  {
   "cell_type": "code",
   "execution_count": 8,
   "metadata": {},
   "outputs": [
    {
     "name": "stdout",
     "output_type": "stream",
     "text": [
      "[4, 9, 16, 25]\n"
     ]
    }
   ],
   "source": [
    "sq_lambda = list(map(lambda tran: (tran**2), num_val))\n",
    "print(sq_lambda)"
   ]
  },
  {
   "cell_type": "markdown",
   "metadata": {
    "colab_type": "text",
    "id": "-ZZiI7m5Dy3t"
   },
   "source": [
    "# reduce()"
   ]
  },
  {
   "cell_type": "markdown",
   "metadata": {
    "colab_type": "text",
    "id": "u_pxdMIcDy3v"
   },
   "source": [
    "reduce() function is for performing some computation on a list and returning the result. \n",
    "\n",
    "It applies a rolling computation to sequential pairs of values in a list. "
   ]
  },
  {
   "cell_type": "code",
   "execution_count": 5,
   "metadata": {
    "colab": {},
    "colab_type": "code",
    "id": "jqx-xAf7Dy3w",
    "outputId": "182c1097-2ed9-4197-bdaf-8b7866401a4d"
   },
   "outputs": [
    {
     "name": "stdout",
     "output_type": "stream",
     "text": [
      "120\n"
     ]
    }
   ],
   "source": [
    "#product of elemnts in a list\n",
    "product = 1\n",
    "lst = [1, 2, 3, 4, 5]\n",
    "\n",
    "# traditional program without reduce()\n",
    "for num in lst:\n",
    "    product *= num\n",
    "print(product)\n"
   ]
  },
  {
   "cell_type": "code",
   "execution_count": 1,
   "metadata": {},
   "outputs": [],
   "source": []
  },
  {
   "cell_type": "code",
   "execution_count": 9,
   "metadata": {
    "colab": {},
    "colab_type": "code",
    "id": "c-_BNfapDy3y",
    "outputId": "8858e5be-5ad5-4979-da7e-4ef51283a04d"
   },
   "outputs": [
    {
     "name": "stdout",
     "output_type": "stream",
     "text": [
      "120\n"
     ]
    }
   ],
   "source": [
    "#with reduce()\n",
    "#without lambda\n",
    "from functools import reduce # in Python 3.\n",
    "\n",
    "def multiply(x,y):\n",
    "    return (x*y);\n",
    "\n",
    "product = reduce(multiply, lst)\n",
    "print(product)\n"
   ]
  },
  {
   "cell_type": "code",
   "execution_count": 14,
   "metadata": {},
   "outputs": [
    {
     "name": "stdout",
     "output_type": "stream",
     "text": [
      "24\n"
     ]
    }
   ],
   "source": [
    "#with lambda\n",
    "prod_agg = reduce(lambda x,y: (x*y), lst)\n",
    "print(prod_agg)"
   ]
  },
  {
   "cell_type": "markdown",
   "metadata": {
    "colab_type": "text",
    "id": "PlBjfKeLDy33"
   },
   "source": [
    "# 2. User-defined Functions"
   ]
  },
  {
   "cell_type": "markdown",
   "metadata": {
    "colab_type": "text",
    "id": "-jG1cIkIDy33"
   },
   "source": [
    "Functions that we define ourselves to do certain specific task are referred as user-defined functions"
   ]
  },
  {
   "cell_type": "markdown",
   "metadata": {
    "colab_type": "text",
    "id": "U0R-nQZEDy35"
   },
   "source": [
    "If we use functions written by others in the form of library, it can be termed as library functions."
   ]
  },
  {
   "cell_type": "markdown",
   "metadata": {
    "colab_type": "text",
    "id": "qnW4EEEaDy36"
   },
   "source": [
    "# Advantages"
   ]
  },
  {
   "cell_type": "markdown",
   "metadata": {
    "colab_type": "text",
    "id": "BuTGBpe_Dy36"
   },
   "source": [
    "1. User-defined functions help to decompose a large program into small segments which makes program easy to understand, maintain and debug.\n",
    "\n",
    "2. If repeated code occurs in a program. Function can be used to include those codes and execute when needed by calling that function.\n",
    "\n",
    "3. Programmars working on large project can divide the workload by making different functions."
   ]
  },
  {
   "cell_type": "markdown",
   "metadata": {
    "colab_type": "text",
    "id": "bchAt3KsDy37"
   },
   "source": [
    "# Example:"
   ]
  },
  {
   "cell_type": "code",
   "execution_count": 9,
   "metadata": {
    "colab": {},
    "colab_type": "code",
    "id": "Bl7T01heDy3-",
    "outputId": "6dfc3c9d-6622-4219-9180-5367adb6b7b2"
   },
   "outputs": [
    {
     "name": "stdout",
     "output_type": "stream",
     "text": [
      "product of 10 and 20 is 200 \n"
     ]
    }
   ],
   "source": [
    "def product_numbers(a, b):\n",
    "    \"\"\"\n",
    "    this function returns the product of two numbers\n",
    "    \"\"\"\n",
    "    product = a * b\n",
    "    return product\n",
    "\n",
    "num1 = 10\n",
    "num2 = 20\n",
    "print (\"product of {0} and {1} is {2} \".format(num1, num2, product_numbers(num1, num2)))"
   ]
  },
  {
   "cell_type": "markdown",
   "metadata": {
    "colab_type": "text",
    "id": "3t1WqaakDy4B"
   },
   "source": [
    "# Python program to make a simple calculator that can add, subtract, multiply and division"
   ]
  },
  {
   "cell_type": "code",
   "execution_count": 13,
   "metadata": {
    "colab": {},
    "colab_type": "code",
    "id": "7VcPOrmLDy4E",
    "outputId": "31adb3c1-11dd-4316-a355-ae44a54acf42"
   },
   "outputs": [
    {
     "name": "stdout",
     "output_type": "stream",
     "text": [
      "Select Option\n",
      "1. Addition\n",
      "2. Subtraction\n",
      "3. Multiplication\n",
      "4. Division\n",
      "Enter choice 1/2/3/44\n",
      "Enter first number:10\n",
      "Enter second number:5\n",
      "Division of 10.0 and 5.0 is 2.0\n"
     ]
    }
   ],
   "source": [
    "def add(a, b):\n",
    "    \"\"\"\n",
    "    This function adds two numbers\n",
    "    \"\"\"\n",
    "    return a + b\n",
    "\n",
    "def multiply(a, b):\n",
    "    \"\"\"\n",
    "    This function multiply two numbers\n",
    "    \"\"\"\n",
    "    return a * b\n",
    "\n",
    "def subtract(a, b):\n",
    "    \"\"\"\n",
    "    This function subtract two numbers\n",
    "    \"\"\"\n",
    "    return a - b\n",
    "\n",
    "def division(a, b):\n",
    "    \"\"\"\n",
    "    This function divides two numbers\n",
    "    \"\"\"\n",
    "    return a / b\n",
    "\n",
    "print(\"Select Option\")\n",
    "print(\"1. Addition\")\n",
    "print (\"2. Subtraction\")\n",
    "print (\"3. Multiplication\")\n",
    "print (\"4. Division\")\n",
    "\n",
    "#take input from user\n",
    "choice = int(input(\"Enter choice 1/2/3/4\"))\n",
    "\n",
    "num1 = float(input(\"Enter first number:\"))\n",
    "num2 = float(input(\"Enter second number:\"))\n",
    "if choice == 1:\n",
    "    print(\"Addition of {0} and {1} is {2}\".format(num1, num2, add(num1, num2)))\n",
    "elif choice == 2:\n",
    "    print(\"Subtraction of {0} and {1} is {2}\".format(num1, num2, subtract(num1, num2)))\n",
    "elif choice == 3:\n",
    "    print(\"Multiplication of {0} and {1} is {2}\".format(num1, num2, multiply(num1, num2)))\n",
    "elif choice == 4:\n",
    "    print(\"Division of {0} and {1} is {2}\".format(num1, num2, division(num1, num2)))\n",
    "else:\n",
    "    print(\"Invalid Choice\")"
   ]
  },
  {
   "cell_type": "code",
   "execution_count": null,
   "metadata": {
    "colab": {},
    "colab_type": "code",
    "id": "aQZUmO9xDy4G"
   },
   "outputs": [],
   "source": []
  }
 ],
 "metadata": {
  "colab": {
   "name": "function_types.ipynb",
   "provenance": [],
   "version": "0.3.2"
  },
  "kernelspec": {
   "display_name": "Python 3",
   "language": "python",
   "name": "python3"
  },
  "language_info": {
   "codemirror_mode": {
    "name": "ipython",
    "version": 3
   },
   "file_extension": ".py",
   "mimetype": "text/x-python",
   "name": "python",
   "nbconvert_exporter": "python",
   "pygments_lexer": "ipython3",
   "version": "3.8.5"
  }
 },
 "nbformat": 4,
 "nbformat_minor": 1
}
