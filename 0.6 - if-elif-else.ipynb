{
 "cells": [
  {
   "cell_type": "markdown",
   "metadata": {
    "colab_type": "text",
    "id": "I9BsPCXXefQ_"
   },
   "source": [
    "# Python if ... else Statement"
   ]
  },
  {
   "cell_type": "markdown",
   "metadata": {
    "colab_type": "text",
    "id": "KcH_APWeefQ_"
   },
   "source": [
    "The **if…elif…else** statement is used in Python for decision making."
   ]
  },
  {
   "cell_type": "markdown",
   "metadata": {
    "colab_type": "text",
    "id": "B4c_NjAlefRA"
   },
   "source": [
    "# if statement syntax"
   ]
  },
  {
   "cell_type": "markdown",
   "metadata": {
    "colab_type": "text",
    "id": "kJmNXz9_efRB"
   },
   "source": [
    "    if test expression:\n",
    "\n",
    "        statement(s)"
   ]
  },
  {
   "cell_type": "markdown",
   "metadata": {
    "colab_type": "text",
    "id": "5P8FX06GefRB"
   },
   "source": [
    "The program evaluates the test expression and will execute statement(s) only if the text expression is True.\n",
    "\n",
    "If the text expression is False, the statement(s) is not executed."
   ]
  },
  {
   "cell_type": "markdown",
   "metadata": {
    "colab_type": "text",
    "id": "2j1VzC47efRD"
   },
   "source": [
    "Python interprets non-zero values as True. None and 0 are interpreted as False."
   ]
  },
  {
   "cell_type": "markdown",
   "metadata": {
    "colab_type": "text",
    "id": "ZoHX8fhdefRD"
   },
   "source": [
    "# Flow Chart"
   ]
  },
  {
   "cell_type": "markdown",
   "metadata": {
    "colab_type": "text",
    "id": "PAtC2WHdefRE"
   },
   "source": [
    "![title](Python_if_statement.jpg)"
   ]
  },
  {
   "cell_type": "markdown",
   "metadata": {
    "colab_type": "text",
    "id": "Q5ARdqzUefRE"
   },
   "source": [
    "# Example"
   ]
  },
  {
   "cell_type": "code",
   "execution_count": 7,
   "metadata": {},
   "outputs": [
    {
     "name": "stdout",
     "output_type": "stream",
     "text": [
      "Enter an age :18\n",
      "eligible\n"
     ]
    }
   ],
   "source": [
    "#Q]. Check valid age for electrol. \n",
    "age_app = int(input(\"Enter an age :\"))\n",
    "if(age_app >= 18):\n",
    "    print(\"eligible\")\n",
    "else:\n",
    "    print(\"not eligible\")"
   ]
  },
  {
   "cell_type": "code",
   "execution_count": 12,
   "metadata": {},
   "outputs": [
    {
     "name": "stdout",
     "output_type": "stream",
     "text": [
      "Enter a CIBIL :632\n",
      "cust is not eligible for loan\n"
     ]
    }
   ],
   "source": [
    "#Creating an app to provide home loan to customer.\n",
    "\n",
    "cust_cibil = int(input(\"Enter a CIBIL :\"))\n",
    "\n",
    "if(cust_cibil >= 800 and 900 > cust_cibil):\n",
    "    print(\"ROI will be 6.9%\")\n",
    "elif(cust_cibil >= 700 and 800 > cust_cibil):\n",
    "    print(\"ROI will be 7.5%\")\n",
    "elif(cust_cibil >= 650 and 700 > cust_cibil):\n",
    "    print(\"ROI will be 8.2%\")\n",
    "else:\n",
    "    print(\"cust is not eligible for loan\")\n",
    "    "
   ]
  },
  {
   "cell_type": "code",
   "execution_count": 15,
   "metadata": {},
   "outputs": [
    {
     "name": "stdout",
     "output_type": "stream",
     "text": [
      "Enter the valid age for voting :32\n",
      "This person is middle\n"
     ]
    }
   ],
   "source": [
    "age = int(input(\"Enter the valid age for voting :\"))\n",
    "\n",
    "if(age>=18):\n",
    "    if(age>=30):\n",
    "        print(\"This person is middle\")\n",
    "    else:\n",
    "        print(\"Young\")\n",
    "else:\n",
    "    print(\"Minor\")"
   ]
  },
  {
   "cell_type": "code",
   "execution_count": 7,
   "metadata": {},
   "outputs": [
    {
     "name": "stdout",
     "output_type": "stream",
     "text": [
      "Enter the candidate age : 37\n",
      "Not eligible\n"
     ]
    }
   ],
   "source": [
    "max_age_upsc = int(input(\"Enter the candidate age : \"))\n",
    "\n",
    "if(max_age_upsc>=18 and max_age_upsc < 30):\n",
    "    print(\"Eligible for UPSC exam\")\n",
    "    \n",
    "elif((max_age_upsc>=18 and max_age_upsc < 35) and (max_age_upsc >= 30 and max_age_upsc<35)) :\n",
    "    print(\"Eligible for state PSU exam\")\n",
    "\n",
    "else:\n",
    "    print(\"Not eligible\")"
   ]
  },
  {
   "cell_type": "code",
   "execution_count": 10,
   "metadata": {},
   "outputs": [
    {
     "name": "stdout",
     "output_type": "stream",
     "text": [
      "Enter your CIBIL :700\n",
      "Not eligible for loan\n"
     ]
    }
   ],
   "source": [
    "'''\n",
    "Q]. Ashok is applying for a home loan from SBI. SBI gave below conditions :\n",
    "\n",
    "CIBIL =>  850=<, (ROI = 7.2%)\n",
    "CIBIL =>  800 and CIBIL < 850, (ROI = 7.5%)\n",
    "CIBIL => 700 and CIBIL < 800, (ROI = 8.2%)\n",
    "CIBIL => CIBIL < 700 , (Not eligible for loan)\n",
    "'''\n",
    "\n",
    "CIBIL = int(input(\"Enter your CIBIL :\"))\n",
    "\n",
    "if(CIBIL >= 850):\n",
    "    ROI = 7.2\n",
    "    print(\"ROI will be {} %\".format(ROI))\n",
    "elif(CIBIL > 800 and CIBIL < 850):\n",
    "    ROI = 7.5\n",
    "    print(\"ROI will be {} %\".format(ROI))\n",
    "elif(CIBIL > 700 and CIBIL < 800):\n",
    "    ROI = 8.2\n",
    "    print(\"ROI will be {} %\".format(ROI))\n",
    "else:\n",
    "    print(\"Not eligible for loan\")"
   ]
  },
  {
   "cell_type": "markdown",
   "metadata": {
    "colab_type": "text",
    "id": "np1GauhCefRK"
   },
   "source": [
    "# if ... else Statement"
   ]
  },
  {
   "cell_type": "markdown",
   "metadata": {
    "colab_type": "text",
    "id": "Y5F7zmmEefRK"
   },
   "source": [
    "# Syntax:"
   ]
  },
  {
   "cell_type": "markdown",
   "metadata": {
    "colab_type": "text",
    "id": "y8jdfyhZefRL"
   },
   "source": [
    "    if test expression:\n",
    "    \n",
    "        Body of if\n",
    "\n",
    "    else: \n",
    "    \n",
    "        Body of else"
   ]
  },
  {
   "cell_type": "markdown",
   "metadata": {
    "colab_type": "text",
    "id": "qhlErfqoefRM"
   },
   "source": [
    "# Flow Chart"
   ]
  },
  {
   "cell_type": "markdown",
   "metadata": {
    "colab_type": "text",
    "id": "yZzUkQw4efRN"
   },
   "source": [
    "![title](Python_if_else_statement.jpg)"
   ]
  },
  {
   "cell_type": "markdown",
   "metadata": {
    "colab_type": "text",
    "id": "kJe4WdEyefRN"
   },
   "source": [
    "# Example"
   ]
  },
  {
   "cell_type": "code",
   "execution_count": 9,
   "metadata": {
    "colab": {
     "autoexec": {
      "startup": false,
      "wait_interval": 0
     }
    },
    "colab_type": "code",
    "id": "pC8kDvb2efRO",
    "outputId": "bf77eac7-736c-406f-a561-c8ef8cca83c6"
   },
   "outputs": [
    {
     "name": "stdout",
     "output_type": "stream",
     "text": [
      "Negative Number\n"
     ]
    }
   ],
   "source": [
    "num = -1\n",
    "if num >= 0:\n",
    "    print(\"Positive number\")\n",
    "else:\n",
    "    print(\"Negative Number\")"
   ]
  },
  {
   "cell_type": "markdown",
   "metadata": {
    "colab_type": "text",
    "id": "FhL5F5DJefRR"
   },
   "source": [
    "# if...elif...else Statement"
   ]
  },
  {
   "cell_type": "markdown",
   "metadata": {
    "colab_type": "text",
    "id": "n5gOJbuUefRS"
   },
   "source": [
    "# Syntax:"
   ]
  },
  {
   "cell_type": "markdown",
   "metadata": {
    "colab_type": "text",
    "id": "NK9FpkhiefRT"
   },
   "source": [
    "    if test expression:\n",
    "\n",
    "        Body of if\n",
    "    elif test expression:\n",
    "    \n",
    "        Body of elif\n",
    "    else: \n",
    "    \n",
    "        Body of else"
   ]
  },
  {
   "cell_type": "markdown",
   "metadata": {
    "colab_type": "text",
    "id": "TPvm-6d9efRT"
   },
   "source": [
    "# Flow Chart"
   ]
  },
  {
   "cell_type": "markdown",
   "metadata": {
    "colab_type": "text",
    "id": "88YUH1IMefRU"
   },
   "source": [
    "![title](Python_if_elif_else_statement.jpg)"
   ]
  },
  {
   "cell_type": "markdown",
   "metadata": {
    "colab_type": "text",
    "id": "_PsCmnflefRU"
   },
   "source": [
    "# Example:"
   ]
  },
  {
   "cell_type": "code",
   "execution_count": 4,
   "metadata": {
    "colab": {
     "autoexec": {
      "startup": false,
      "wait_interval": 0
     }
    },
    "colab_type": "code",
    "id": "NgIKVa1vefRV",
    "outputId": "d8cba0f9-d26d-4163-fbf9-5aceb05b4112"
   },
   "outputs": [
    {
     "name": "stdout",
     "output_type": "stream",
     "text": [
      "Enter the CIBIL : 810\n",
      "Enter the Bank Name : HDFC\n",
      "ROI would be :  7.9  from  HDFC\n"
     ]
    }
   ],
   "source": [
    "'''A person is applying for loan and his cibil is given below, find the\n",
    "is eligible for loan or not'''\n",
    "\n",
    "#If else Ladder statement \n",
    "\n",
    "cibil = int(input(\"Enter the CIBIL : \"))\n",
    "Bank = str(input(\"Enter the Bank Name : \"))\n",
    "\n",
    "if(cibil>700 and cibil<=750):\n",
    "    print(\"ROI would be : \", 8.5, \" from \", Bank)\n",
    "    \n",
    "elif(cibil>750 and cibil<=800):\n",
    "    print(\"ROI would be : \", 8.1, \" from \", Bank)\n",
    "    \n",
    "elif(cibil>800 and cibil<=900):\n",
    "    print(\"ROI would be : \", 7.9, \" from \", Bank)\n",
    "    \n",
    "else:\n",
    "    print(\"Not approved\")"
   ]
  },
  {
   "cell_type": "code",
   "execution_count": 5,
   "metadata": {},
   "outputs": [
    {
     "name": "stdout",
     "output_type": "stream",
     "text": [
      "Enter the age : 38\n",
      "Middle\n"
     ]
    }
   ],
   "source": [
    "#Finding the age category to provide better insurance\n",
    "age = int(input(\"Enter the age : \"))\n",
    "\n",
    "\n",
    "if(age>10 and age<=20):\n",
    "    print(\"Teenager\")\n",
    "elif(age>20 and age<=35):\n",
    "    print(\"Young\")\n",
    "elif(age>35 and age<50):\n",
    "    print(\"Middle\")\n",
    "elif(age>=50 and age<62):\n",
    "    print(\"Old\")\n",
    "else:\n",
    "    print(\"Senior citizen\")"
   ]
  },
  {
   "cell_type": "markdown",
   "metadata": {
    "colab_type": "text",
    "id": "Sp98_OGyefRZ"
   },
   "source": [
    "# Nested if Statements"
   ]
  },
  {
   "cell_type": "markdown",
   "metadata": {
    "colab_type": "text",
    "id": "Ss3GbcNTefRZ"
   },
   "source": [
    "We can have a if...elif...else statement inside another if...elif...else statement. This is called nesting in computer programming."
   ]
  },
  {
   "cell_type": "markdown",
   "metadata": {
    "colab_type": "text",
    "id": "_WOwMeijefRZ"
   },
   "source": [
    "# Example:"
   ]
  },
  {
   "cell_type": "code",
   "execution_count": 5,
   "metadata": {
    "colab": {
     "autoexec": {
      "startup": false,
      "wait_interval": 0
     }
    },
    "colab_type": "code",
    "id": "XSjHkI2RefRa",
    "outputId": "aab86f49-a9d6-4643-ec20-5a9d00df9237"
   },
   "outputs": [
    {
     "name": "stdout",
     "output_type": "stream",
     "text": [
      "Positive number\n"
     ]
    }
   ],
   "source": [
    "num = -1\n",
    "\n",
    "if (num >= 0):\n",
    "    if (num <= 0):\n",
    "        print(\"Zero\")\n",
    "    else:\n",
    "        print(\"Positive number\")\n",
    "else:\n",
    "    print(\"Negative Number\")"
   ]
  },
  {
   "cell_type": "markdown",
   "metadata": {
    "colab_type": "text",
    "id": "29bb4cB2efRc"
   },
   "source": [
    "# Python program to find the largest element among three Numbers"
   ]
  },
  {
   "cell_type": "code",
   "execution_count": 9,
   "metadata": {
    "colab": {
     "autoexec": {
      "startup": false,
      "wait_interval": 0
     }
    },
    "colab_type": "code",
    "id": "wNkB5Fz1efRd",
    "outputId": "7f6c6563-784d-40a6-cafd-eb999ed77e2a"
   },
   "outputs": [
    {
     "name": "stdout",
     "output_type": "stream",
     "text": [
      "Give the input for num1 : 54\n",
      "Give the input for num2 : 13\n",
      "Give the input for num3 : 43\n",
      "Largest element among three numbers is: 54\n"
     ]
    }
   ],
   "source": [
    "num1 = int(input(\"Give the input for num1 : \"))\n",
    "num2 = int(input(\"Give the input for num2 : \"))\n",
    "num3 = int(input(\"Give the input for num3 : \"))\n",
    "\n",
    "if ((num1 >= num2) and (num1 >= num3)):           #logical operator   and\n",
    "    largest = num1\n",
    "elif (num2 >= num1) and (num2 >= num3):\n",
    "    largest = num2\n",
    "else:\n",
    "    largest = num3\n",
    "print(\"Largest element among three numbers is: {}\".format(largest))"
   ]
  },
  {
   "cell_type": "code",
   "execution_count": 0,
   "metadata": {
    "colab": {
     "autoexec": {
      "startup": false,
      "wait_interval": 0
     }
    },
    "colab_type": "code",
    "id": "cjzyFKiMefRf"
   },
   "outputs": [],
   "source": []
  }
 ],
 "metadata": {
  "colab": {
   "default_view": {},
   "name": "if-elif-else.ipynb",
   "provenance": [],
   "version": "0.3.2",
   "views": {}
  },
  "kernelspec": {
   "display_name": "Python 3",
   "language": "python",
   "name": "python3"
  },
  "language_info": {
   "codemirror_mode": {
    "name": "ipython",
    "version": 3
   },
   "file_extension": ".py",
   "mimetype": "text/x-python",
   "name": "python",
   "nbconvert_exporter": "python",
   "pygments_lexer": "ipython3",
   "version": "3.8.5"
  }
 },
 "nbformat": 4,
 "nbformat_minor": 1
}
